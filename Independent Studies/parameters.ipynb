# Import the analyzer class
from analyze_transport import TransportAnalyzer

# Input parameters
num_trajectories = 10  # Number of trajectories
trajectory_files = [f'traj_{i}.dcd' for i in range(num_trajectories)]
pressure_files = [f'pressure_{i}.dat' for i in range(num_trajectories)]
dipole_files = [f'dipole_{i}.dat' for i in range(num_trajectories)]
topology_file = 'choline_cl.pdb'  # Replace with your PDB file
with open("avg_volume.txt", "r") as f:
    avg_volume = float(f.read())
dt = (10000 * 0.002) * 1e-12  # report_interval * timestep in seconds
temperature = 300  # Kelvin

# Initialize analyzer
analyzer = TransportAnalyzer(trajectory_files, pressure_files, dipole_files, topology_file, avg_volume, dt, temperature)

# Calculate transport coefficients and save to files
D_avg, D_std = analyzer.calculate_diffusion()
eta_avg, eta_std = analyzer.calculate_viscosity()
sigma_avg, sigma_std = analyzer.calculate_conductivity()

# Print results
print(f'Diffusion coefficient: {D_avg:.2f} ± {D_std:.2f} × 10⁻⁹ m²/s')
print(f'Viscosity: {eta_avg:.2f} ± {eta_std:.2f} mPa·s')
print(f'Electrical conductivity: {sigma_avg:.2f} ± {sigma_std:.2f} S/m')

# Generate plots from saved data
analyzer.plot_msd_diffusion()
analyzer.plot_acf_viscosity()
analyzer.plot_msd_conductivity()
