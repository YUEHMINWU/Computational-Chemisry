{
 "cells": [
  {
   "cell_type": "code",
   "execution_count": null,
   "id": "25211469-1c8d-4b95-8a70-19a61831bfd1",
   "metadata": {},
   "outputs": [],
   "source": [
    "# Import the analyzer class\n",
    "from analyze_transport import TransportAnalyzer\n",
    "\n",
    "# Input parameters\n",
    "num_trajectories = 10  # Number of trajectories\n",
    "trajectory_files = [f'traj_{i}.dcd' for i in range(num_trajectories)]\n",
    "pressure_files = [f'pressure_{i}.dat' for i in range(num_trajectories)]\n",
    "dipole_files = [f'dipole_{i}.dat' for i in range(num_trajectories)]\n",
    "topology_file = 'choline_cl.pdb'  # Replace with your PDB file\n",
    "with open(\"avg_volume.txt\", \"r\") as f:\n",
    "    avg_volume = float(f.read())\n",
    "dt = (10000 * 0.002) * 1e-12  # report_interval * timestep in seconds\n",
    "temperature = 300  # Kelvin\n",
    "\n",
    "# Initialize analyzer\n",
    "analyzer = TransportAnalyzer(trajectory_files, pressure_files, dipole_files, topology_file, avg_volume, dt, temperature)\n",
    "\n",
    "# Calculate transport coefficients and save to files\n",
    "D_avg, D_std = analyzer.calculate_diffusion()\n",
    "eta_avg, eta_std = analyzer.calculate_viscosity()\n",
    "sigma_avg, sigma_std = analyzer.calculate_conductivity()\n",
    "\n",
    "# Print results\n",
    "print(f'Diffusion coefficient: {D_avg:.2f} ± {D_std:.2f} × 10⁻⁹ m²/s')\n",
    "print(f'Viscosity: {eta_avg:.2f} ± {eta_std:.2f} mPa·s')\n",
    "print(f'Electrical conductivity: {sigma_avg:.2f} ± {sigma_std:.2f} S/m')\n",
    "\n",
    "# Generate plots from saved data\n",
    "analyzer.plot_msd_diffusion()\n",
    "analyzer.plot_acf_viscosity()\n",
    "analyzer.plot_msd_conductivity()"
   ]
  }
 ],
 "metadata": {
  "kernelspec": {
   "display_name": "Python 3 (ipykernel)",
   "language": "python",
   "name": "python3"
  },
  "language_info": {
   "codemirror_mode": {
    "name": "ipython",
    "version": 3
   },
   "file_extension": ".py",
   "mimetype": "text/x-python",
   "name": "python",
   "nbconvert_exporter": "python",
   "pygments_lexer": "ipython3",
   "version": "3.10.16"
  }
 },
 "nbformat": 4,
 "nbformat_minor": 5
}
